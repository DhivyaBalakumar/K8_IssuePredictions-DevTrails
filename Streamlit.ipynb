{
 "cells": [
  {
   "cell_type": "code",
   "execution_count": 1,
   "id": "43d8e9b9-f06d-47bb-acfb-925db6f02b6e",
   "metadata": {},
   "outputs": [
    {
     "name": "stderr",
     "output_type": "stream",
     "text": [
      "2025-03-22 21:24:04.793 \n",
      "  \u001b[33m\u001b[1mWarning:\u001b[0m to view this Streamlit app on a browser, run it with the following\n",
      "  command:\n",
      "\n",
      "    streamlit run C:\\Users\\User\\anaconda3\\Lib\\site-packages\\ipykernel_launcher.py [ARGUMENTS]\n"
     ]
    },
    {
     "data": {
      "text/plain": [
       "DeltaGenerator()"
      ]
     },
     "execution_count": 1,
     "metadata": {},
     "output_type": "execute_result"
    }
   ],
   "source": [
    "import streamlit as st\n",
    "import pandas as pd\n",
    "import joblib\n",
    "import numpy as np\n",
    "\n",
    "# Load the Trained Model & Scaler\n",
    "model = joblib.load(\"xgboost_multitarget_model.pkl\")  # Change the filename if needed\n",
    "\n",
    "\n",
    "st.title(\"🚀 Multi-Target Prediction App\")\n",
    "\n",
    "# Get Feature Input from User\n",
    "st.header(\"📌 Enter Feature Values\")\n",
    "feature_values = []\n",
    "\n",
    "# Define Feature Names (Manually Add Based on Your Model)\n",
    "feature_names = [\n",
    "    \"Feature_1\", \"Feature_2\", \"Feature_3\",  # Replace with actual feature names\n",
    "]\n",
    "\n",
    "for feature in feature_names:\n",
    "    value = st.number_input(f\"Enter {feature}\", step=0.01)\n",
    "    feature_values.append(value)\n",
    "\n",
    "# Prediction Button\n",
    "if st.button(\"🔍 Predict\"):\n",
    "    try:\n",
    "        # Convert Input to NumPy Array\n",
    "        input_data = np.array([feature_values])\n",
    "\n",
    "        # Scale Data (If Needed)\n",
    "        input_scaled = scaler.transform(input_data) if scaler else input_data\n",
    "\n",
    "        # Make Prediction\n",
    "        prediction = model.predict(input_scaled)\n",
    "\n",
    "        # Display Predictions\n",
    "        st.subheader(\"🎯 Prediction Results:\")\n",
    "        st.json({f\"Target_{i+1}\": pred for i, pred in enumerate(prediction[0])})\n",
    "\n",
    "    except Exception as e:\n",
    "        st.error(f\"❌ Error: {str(e)}\")\n",
    "\n",
    "st.caption(\"🚀 Built with Streamlit\")"
   ]
  },
  {
   "cell_type": "code",
   "execution_count": null,
   "id": "0567d236-6db3-4a0c-8e3a-932f7977fac0",
   "metadata": {},
   "outputs": [],
   "source": []
  }
 ],
 "metadata": {
  "kernelspec": {
   "display_name": "Python 3 (ipykernel)",
   "language": "python",
   "name": "python3"
  },
  "language_info": {
   "codemirror_mode": {
    "name": "ipython",
    "version": 3
   },
   "file_extension": ".py",
   "mimetype": "text/x-python",
   "name": "python",
   "nbconvert_exporter": "python",
   "pygments_lexer": "ipython3",
   "version": "3.12.3"
  }
 },
 "nbformat": 4,
 "nbformat_minor": 5
}
